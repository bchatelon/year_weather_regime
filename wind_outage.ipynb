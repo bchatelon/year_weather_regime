{
 "cells": [
  {
   "cell_type": "code",
   "execution_count": 5,
   "id": "51c62a8a",
   "metadata": {},
   "outputs": [],
   "source": [
    "import netCDF4\n",
    "import xarray as xr\n",
    "import numpy as np\n",
    "import cartopy.crs as ccrs\n"
   ]
  },
  {
   "cell_type": "markdown",
   "id": "b2c6ba29",
   "metadata": {},
   "source": [
    "# Getting wind speed over land using CDO"
   ]
  },
  {
   "cell_type": "raw",
   "id": "7002ffff",
   "metadata": {},
   "source": [
    "Calculating windspeed :\n",
    "cdo sqrt -add -sqr u10_eur_19790101_20191231.nc -sqr v10_eur_19790101_20191231.nc ws10_eur_19790101_20191231.nc\n",
    "\n",
    "Creating a topomap file :\n",
    "cdo -f nc -setrtomiss,-20000,0 -topo topo_land.nc\n",
    "\n",
    "Remap mask file to the data grid size of file test_A.nc:\n",
    "cdo -f nc -remapcon,test_A.nc topo_land.nc topo_land_grid_A.nc\n",
    "\n",
    "Mask test_A.nc with topo_land_grid_A.nc to get the values of test_A.nc only over land:\n",
    "cdo -f nc ifthen topo_land_grid_A.nc test_A.nc test_A_over_land.nc"
   ]
  },
  {
   "cell_type": "code",
   "execution_count": 15,
   "id": "f3aaed30",
   "metadata": {},
   "outputs": [],
   "source": [
    "ws = xr.open_dataset('./data/wind10_eur_19790101_20191231_LAND.nc')"
   ]
  },
  {
   "cell_type": "code",
   "execution_count": null,
   "id": "c1c28509",
   "metadata": {},
   "outputs": [],
   "source": []
  }
 ],
 "metadata": {
  "kernelspec": {
   "display_name": "Python 3 (ipykernel)",
   "language": "python",
   "name": "python3"
  },
  "language_info": {
   "codemirror_mode": {
    "name": "ipython",
    "version": 3
   },
   "file_extension": ".py",
   "mimetype": "text/x-python",
   "name": "python",
   "nbconvert_exporter": "python",
   "pygments_lexer": "ipython3",
   "version": "3.9.7"
  }
 },
 "nbformat": 4,
 "nbformat_minor": 5
}
