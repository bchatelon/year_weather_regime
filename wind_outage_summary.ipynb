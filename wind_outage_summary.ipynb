{
 "cells": [
  {
   "cell_type": "markdown",
   "id": "6a85246f",
   "metadata": {},
   "source": [
    "# WIND OUTAGE SUMMARY "
   ]
  },
  {
   "cell_type": "markdown",
   "id": "0315d957",
   "metadata": {},
   "source": [
    "## Wind Speed Index "
   ]
  },
  {
   "cell_type": "code",
   "execution_count": 1,
   "id": "0cfb1a2e",
   "metadata": {},
   "outputs": [],
   "source": [
    "import xarray as xr\n",
    "import numpy as np\n",
    "import pandas as pd\n",
    "import matplotlib.pyplot as plt\n",
    "import json"
   ]
  },
  {
   "cell_type": "code",
   "execution_count": 2,
   "id": "933392c7",
   "metadata": {},
   "outputs": [],
   "source": [
    "dir_res='./result/'\n",
    "dir_data='./data/'"
   ]
  },
  {
   "cell_type": "markdown",
   "id": "af31a936",
   "metadata": {},
   "source": [
    "#### Data openning and preparation"
   ]
  },
  {
   "cell_type": "code",
   "execution_count": 3,
   "id": "f8f36691",
   "metadata": {},
   "outputs": [],
   "source": [
    "#Clusters time serie (without declustering)\n",
    "with open(dir_res+'cluster.txt', 'r') as clstr :\n",
    "    cluster = np.array([int(i) for i in clstr.readline().replace('\\n','')])[:-365]\n",
    "    Regimes = clstr.readline().replace(\"'\",'').replace('[','').replace(']','').replace('\\n','').split(',')\n",
    "\n",
    "#Wind norm data\n",
    "data = xr.open_dataset('./data/wind10_eur_19790101_20191231.nc')"
   ]
  },
  {
   "cell_type": "code",
   "execution_count": 4,
   "id": "300f46f7",
   "metadata": {},
   "outputs": [],
   "source": [
    "#WSI AREA\n",
    "latS=45\n",
    "latN=60\n",
    "lonW=-10\n",
    "lonE=25\n",
    "hres = 0.25 #degree\n",
    "lon = np.arange(lonW,lonE+hres,hres)\n",
    "lat = np.arange(latS,latN+hres,hres)"
   ]
  },
  {
   "cell_type": "code",
   "execution_count": 5,
   "id": "408ae3a2",
   "metadata": {},
   "outputs": [],
   "source": [
    "#Time index array\n",
    "d1='1980-01-01T09'\n",
    "d2='2019-12-31T18'\n",
    "dates = pd.date_range(d1, d2, freq='D')\n",
    "jours = np.any([dates.day!=29,dates.month!=2],axis=0)\n",
    "dates = dates[jours][15:-15] #excluding +15,-15 because nan values (from normalization coeff smoothing)"
   ]
  },
  {
   "cell_type": "code",
   "execution_count": 6,
   "id": "4cfa0d15",
   "metadata": {},
   "outputs": [],
   "source": [
    "#Resizing data box\n",
    "data_wsi = data.sel(longitude = lon, latitude = lat).ws.fillna(0).to_dataset()"
   ]
  },
  {
   "cell_type": "markdown",
   "id": "34a4d849",
   "metadata": {},
   "source": [
    "#### Latitude-weighted arithmetic mean"
   ]
  },
  {
   "cell_type": "code",
   "execution_count": 7,
   "id": "62bac91e",
   "metadata": {},
   "outputs": [],
   "source": [
    "wgts = (np.cos(np.deg2rad(data_wsi.latitude)))\n",
    "data_wsi_weighted = data_wsi.weighted(wgts)"
   ]
  },
  {
   "cell_type": "code",
   "execution_count": 8,
   "id": "dfa76fc7",
   "metadata": {},
   "outputs": [],
   "source": [
    "WSI = data_wsi_weighted.mean(dim = ['longitude','latitude']).sel(time = dates)"
   ]
  },
  {
   "cell_type": "markdown",
   "id": "c428a5bc",
   "metadata": {},
   "source": [
    "## Box plot summary "
   ]
  },
  {
   "cell_type": "code",
   "execution_count": 9,
   "id": "b356d977",
   "metadata": {},
   "outputs": [],
   "source": [
    "def season_filter(WSI_regime, season) :\n",
    "    regime_time = WSI_regime.time.dt.month\n",
    "    if season == 'DJF' :\n",
    "        return WSI_regime[np.any([regime_time==12,regime_time==1,regime_time==2],axis=0)]\n",
    "    if season == 'MAM' :\n",
    "        return WSI_regime[np.any([regime_time==3,regime_time==4,regime_time==5],axis=0)]\n",
    "    if season == 'JJA' :\n",
    "        return WSI_regime[np.any([regime_time==6,regime_time==7,regime_time==8],axis=0)]\n",
    "    if season == 'SON' :\n",
    "        return WSI_regime[np.any([regime_time==9,regime_time==10,regime_time==11],axis=0)]"
   ]
  },
  {
   "cell_type": "code",
   "execution_count": 10,
   "id": "4b88288f",
   "metadata": {
    "scrolled": false
   },
   "outputs": [
    {
     "data": {
      "image/png": "[encoded data removed]",
      "text/plain": [
       "<Figure size 1224x648 with 4 Axes>"
      ]
     },
     "metadata": {
      "needs_background": "light"
     },
     "output_type": "display_data"
    }
   ],
   "source": [
    "fig = plt.figure(figsize=(17, 9))\n",
    "\n",
    "WSI_season = WSI.groupby('time.season')\n",
    "seasons = ['DJF', 'JJA', 'MAM', 'SON']\n",
    "\n",
    "for plot_index, season in enumerate(seasons) :\n",
    "    \n",
    "    ax = fig.add_subplot(2,2,plot_index+1)\n",
    "    ax.set_title(season)\n",
    "\n",
    "    WSI_regimes = []\n",
    "    for index in range(len(Regimes)):\n",
    "        id_regime = np.any([cluster == index], axis = 0)\n",
    "        WSI_regime = WSI.ws[id_regime]\n",
    "        WSI_regimes.append(season_filter(WSI_regime, season))\n",
    "\n",
    "    ax.boxplot(WSI_regimes, labels = Regimes)\n",
    "    ax.set_ylim(1.5,7)\n",
    "    ax.grid(axis = 'y', alpha = 0.5)\n",
    "\n",
    "plt.suptitle('Seasonnal boxplots of wind speed mean over Northwestern Europe', fontsize = 16)\n",
    "plt.savefig('figs_wind/wsi_nbox_boxplot_summary.jpg')\n",
    "plt.show()"
   ]
  },
  {
   "cell_type": "markdown",
   "id": "fc2f941b",
   "metadata": {},
   "source": [
    "## Wind Outage "
   ]
  },
  {
   "cell_type": "markdown",
   "id": "57982c18",
   "metadata": {},
   "source": [
    "#### Computing daily smoothed $\\mu-\\sigma$ threshold"
   ]
  },
  {
   "cell_type": "code",
   "execution_count": 11,
   "id": "7788e22b",
   "metadata": {},
   "outputs": [],
   "source": [
    "#daily mean\n",
    "WSI_dmean = WSI.groupby('time.dayofyear').mean('time')\n",
    "#smoothed daily mean\n",
    "WSI_day_mean = xr.concat([\n",
    "    WSI_dmean.roll(dayofyear=150, roll_coords= True).ws.rolling(dayofyear=30, center=True).mean().roll(dayofyear=-150, roll_coords= True)[:15],\n",
    "    WSI_dmean.ws.rolling(dayofyear=30, center=True).mean().dropna('dayofyear'),\n",
    "    WSI_dmean.roll(dayofyear=150, roll_coords= True).ws.rolling(dayofyear=30, center=True).mean().roll(dayofyear=-150, roll_coords= True)[-14:]],\n",
    "    dim = 'dayofyear')"
   ]
  },
  {
   "cell_type": "code",
   "execution_count": 12,
   "id": "2e8b14ef",
   "metadata": {},
   "outputs": [],
   "source": [
    "#daily standard deviation\n",
    "WSI_dstd = WSI.groupby('time.dayofyear').std('time')\n",
    "#smoothed daily standard deviation\n",
    "WSI_day_std = xr.concat([\n",
    "    WSI_dstd.roll(dayofyear=150, roll_coords= True).ws.rolling(dayofyear=30, center=True).mean().roll(dayofyear=-150, roll_coords= True)[:15],\n",
    "    WSI_dstd.ws.rolling(dayofyear=30, center=True).mean().dropna('dayofyear'),\n",
    "    WSI_dstd.roll(dayofyear=150, roll_coords= True).ws.rolling(dayofyear=30, center=True).mean().roll(dayofyear=-150, roll_coords= True)[-14:]],\n",
    "    dim = 'dayofyear')"
   ]
  },
  {
   "cell_type": "code",
   "execution_count": 13,
   "id": "58fce735",
   "metadata": {},
   "outputs": [],
   "source": [
    "#Computing threshold and smoothing\n",
    "empirical_coeff = 1\n",
    "threshold = (WSI_day_mean - empirical_coeff*WSI_day_std).to_dataset()\n",
    "threshold_smooth = xr.concat([\n",
    "    threshold.roll(dayofyear=150, roll_coords= True).ws.rolling(dayofyear=30, center=True).mean().roll(dayofyear=-150, roll_coords= True)[:15],\n",
    "    threshold.ws.rolling(dayofyear=30, center=True).mean().dropna('dayofyear'),\n",
    "    threshold.roll(dayofyear=150, roll_coords= True).ws.rolling(dayofyear=30, center=True).mean().roll(dayofyear=-150, roll_coords= True)[-14:]],\n",
    "    dim = 'dayofyear')"
   ]
  },
  {
   "cell_type": "code",
   "execution_count": 14,
   "id": "79bd7762",
   "metadata": {},
   "outputs": [],
   "source": [
    "WO_date = np.array(WSI.where(WSI.groupby('time.dayofyear') < threshold, drop = True).time)"
   ]
  },
  {
   "cell_type": "code",
   "execution_count": 15,
   "id": "1cc12208",
   "metadata": {},
   "outputs": [],
   "source": [
    "WO_index = [a in WO_date for a in dates]"
   ]
  },
  {
   "cell_type": "code",
   "execution_count": 16,
   "id": "b99c7213",
   "metadata": {},
   "outputs": [],
   "source": [
    "WO_cluster = cluster[WO_index]"
   ]
  },
  {
   "cell_type": "code",
   "execution_count": 17,
   "id": "dd0d22a0",
   "metadata": {},
   "outputs": [
    {
     "name": "stdout",
     "output_type": "stream",
     "text": [
      "2375 days\n",
      "\n",
      "Regime\t|Repart\t|Occ/reg\n",
      "------------------------\n",
      "ScBl\t| 19.4%\t| 23.2%\n",
      "AR\t| 12.8%\t| 16.6%\n",
      "ScLo\t|  6.8%\t|  8.3%\n",
      "GlBl\t| 10.4%\t| 12.8%\n",
      "Zo\t| 11.7%\t| 11.3%\n",
      "EuLo\t|  8.8%\t| 10.8%\n",
      "EuBl\t| 30.2%\t| 28.8%\n"
     ]
    }
   ],
   "source": [
    "nbr_day = []\n",
    "print(f'{len(WO_cluster)} days')\n",
    "print()\n",
    "print('Regime\\t|Repart\\t|Occ/reg')\n",
    "print('--'*12)\n",
    "for index, regime in enumerate(Regimes) :\n",
    "    occ = list(WO_cluster).count(index)\n",
    "    perc = round(occ*100/len(WO_cluster),1)\n",
    "    nbr_day.append(perc)\n",
    "    perc_reg = sum(np.any([WO_cluster == index], axis = 0))*100/sum(np.any([cluster == index], axis = 0))\n",
    "    print(f'{regime[:6]}\\t| {perc:4.1f}%\\t| {perc_reg:4.1f}%')"
   ]
  },
  {
   "cell_type": "code",
   "execution_count": 18,
   "id": "e374fa5d",
   "metadata": {
    "scrolled": false
   },
   "outputs": [
    {
     "data": {
      "image/png": "[encoded data removed]",
      "text/plain": [
       "<Figure size 1080x504 with 1 Axes>"
      ]
     },
     "metadata": {
      "needs_background": "light"
     },
     "output_type": "display_data"
    }
   ],
   "source": [
    "fig = plt.figure(figsize=(15,7))\n",
    "\n",
    "ax = fig.add_subplot(1,2,1)\n",
    "ax.bar(Regimes,nbr_day, width=0.2, zorder = 2)\n",
    "ax.grid(axis='y', alpha = 0.7)\n",
    "ax.set_ylabel('Percentage of wind outage days')\n",
    "ax.set_title(f'Repartition of wind outage by regime\\n{len(WO_cluster)} days')\n",
    "\n",
    "plt.show()"
   ]
  },
  {
   "cell_type": "markdown",
   "id": "ecd70878",
   "metadata": {},
   "source": [
    "## Assessing the role of WR transition in WO "
   ]
  },
  {
   "cell_type": "code",
   "execution_count": 19,
   "id": "be764077",
   "metadata": {},
   "outputs": [
    {
     "name": "stdout",
     "output_type": "stream",
     "text": [
      "ScBl  \t|  J-1\t|   J\t|  J+1\n",
      "------------------------------\n",
      "ScBl  \t| 72.2\t| 100.0\t| 75.2\n",
      "AR  \t|  3.3\t|  0.0\t|  5.9\n",
      "ScLo  \t|  0.7\t|  0.0\t|  0.2\n",
      "GlBl  \t|  5.0\t|  0.0\t|  5.4\n",
      "Zo  \t|  4.8\t|  0.0\t|  2.2\n",
      "EuLo  \t|  1.7\t|  0.0\t|  3.3\n",
      "EuBl  \t| 12.4\t|  0.0\t|  7.8\n",
      "\n",
      "==============================\n",
      "\n",
      "AR  \t|  J-1\t|   J\t|  J+1\n",
      "------------------------------\n",
      "ScBl  \t| 11.2\t|  0.0\t|  4.3\n",
      "AR  \t| 70.3\t| 100.0\t| 71.6\n",
      "ScLo  \t|  1.0\t|  0.0\t|  2.0\n",
      "GlBl  \t|  3.6\t|  0.0\t| 10.9\n",
      "Zo  \t|  0.0\t|  0.0\t|  0.0\n",
      "EuLo  \t|  5.0\t|  0.0\t|  4.0\n",
      "EuBl  \t|  8.9\t|  0.0\t|  7.3\n",
      "\n",
      "==============================\n",
      "\n",
      "ScLo  \t|  J-1\t|   J\t|  J+1\n",
      "------------------------------\n",
      "ScBl  \t|  0.6\t|  0.0\t|  2.5\n",
      "AR  \t|  7.5\t|  0.0\t|  3.1\n",
      "ScLo  \t| 55.9\t| 100.0\t| 61.5\n",
      "GlBl  \t|  0.6\t|  0.0\t|  4.3\n",
      "Zo  \t|  8.7\t|  0.0\t| 12.4\n",
      "EuLo  \t|  9.3\t|  0.0\t|  9.9\n",
      "EuBl  \t| 17.4\t|  0.0\t|  6.2\n",
      "\n",
      "==============================\n",
      "\n",
      "GlBl  \t|  J-1\t|   J\t|  J+1\n",
      "------------------------------\n",
      "ScBl  \t|  8.5\t|  0.0\t| 10.6\n",
      "AR  \t| 13.4\t|  0.0\t|  5.3\n",
      "ScLo  \t|  2.0\t|  0.0\t|  0.8\n",
      "GlBl  \t| 67.1\t| 100.0\t| 73.6\n",
      "Zo  \t|  2.4\t|  0.0\t|  3.7\n",
      "EuLo  \t|  5.3\t|  0.0\t|  2.8\n",
      "EuBl  \t|  1.2\t|  0.0\t|  3.3\n",
      "\n",
      "==============================\n",
      "\n",
      "Zo  \t|  J-1\t|   J\t|  J+1\n",
      "------------------------------\n",
      "ScBl  \t|  2.9\t|  0.0\t| 12.2\n",
      "AR  \t|  0.0\t|  0.0\t|  0.0\n",
      "ScLo  \t|  6.8\t|  0.0\t|  3.2\n",
      "GlBl  \t|  3.2\t|  0.0\t|  1.8\n",
      "Zo  \t| 67.0\t| 100.0\t| 65.9\n",
      "EuLo  \t|  7.2\t|  0.0\t|  4.3\n",
      "EuBl  \t| 12.9\t|  0.0\t| 12.5\n",
      "\n",
      "==============================\n",
      "\n",
      "EuLo  \t|  J-1\t|   J\t|  J+1\n",
      "------------------------------\n",
      "ScBl  \t|  3.3\t|  0.0\t|  2.9\n",
      "AR  \t|  6.7\t|  0.0\t|  6.2\n",
      "ScLo  \t|  9.1\t|  0.0\t|  3.3\n",
      "GlBl  \t|  1.9\t|  0.0\t|  6.2\n",
      "Zo  \t|  5.3\t|  0.0\t|  9.6\n",
      "EuLo  \t| 67.5\t| 100.0\t| 60.8\n",
      "EuBl  \t|  6.2\t|  0.0\t| 11.0\n",
      "\n",
      "==============================\n",
      "\n",
      "EuBl  \t|  J-1\t|   J\t|  J+1\n",
      "------------------------------\n",
      "ScBl  \t|  7.4\t|  0.0\t|  7.8\n",
      "AR  \t|  3.9\t|  0.0\t|  4.6\n",
      "ScLo  \t|  2.5\t|  0.0\t|  6.8\n",
      "GlBl  \t|  1.5\t|  0.0\t|  0.6\n",
      "Zo  \t|  5.6\t|  0.0\t|  8.2\n",
      "EuLo  \t|  3.8\t|  0.0\t|  1.7\n",
      "EuBl  \t| 75.3\t| 100.0\t| 70.3\n",
      "\n",
      "==============================\n",
      "\n"
     ]
    }
   ],
   "source": [
    "# %%capture cap --no-stderr #use to save print output\n",
    "for index, regime in enumerate(Regimes) :\n",
    "    clust_0 = np.any([cluster == index], axis = 0)\n",
    "    WO_0 = np.array(WO_index) & clust_0\n",
    "    WO_0_aft = list(cluster[np.roll(WO_0,1)])\n",
    "    WO_0_bef = list(cluster[np.roll(WO_0,-1)])\n",
    "    occ_ref = list(cluster[WO_0]).count(index)\n",
    "    print(f'{regime}  \\t|  J-1\\t|   J\\t|  J+1')\n",
    "    print('--'*15)\n",
    "    for index, regime in enumerate(Regimes) :\n",
    "        occ_bef = (WO_0_bef).count(index)\n",
    "        occ_aft = (WO_0_aft).count(index)\n",
    "        occ = list(cluster[WO_0]).count(index)\n",
    "        print(f'{regime}  \\t| {occ_bef*100/occ_ref:4.1f}\\t| {occ*100/occ_ref:4.1f}\\t| {occ_aft*100/occ_ref:4.1f}')\n",
    "    print()\n",
    "    print('=='*15)\n",
    "    print()"
   ]
  },
  {
   "cell_type": "code",
   "execution_count": 20,
   "id": "a0d35486",
   "metadata": {},
   "outputs": [],
   "source": [
    "# with open(dir_res+'WR_transition.txt', 'w') as f: #save output in a txt file\n",
    "#     f.write(cap.stdout)"
   ]
  }
 ],
 "metadata": {
  "kernelspec": {
   "display_name": "Python 3.9.7 ('base')",
   "language": "python",
   "name": "python397jvsc74a57bd040d3a090f54c6569ab1632332b64b2c03c39dcf918b08424e98f38b5ae0af88f"
  },
  "language_info": {
   "codemirror_mode": {
    "name": "ipython",
    "version": 3
   },
   "file_extension": ".py",
   "mimetype": "text/x-python",
   "name": "python",
   "nbconvert_exporter": "python",
   "pygments_lexer": "ipython3",
   "version": "3.9.7"
  }
 },
 "nbformat": 4,
 "nbformat_minor": 5
}
