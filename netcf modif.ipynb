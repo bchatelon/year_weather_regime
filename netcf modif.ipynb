{
 "cells": [
  {
   "cell_type": "code",
   "execution_count": 1,
   "id": "0ca48003",
   "metadata": {},
   "outputs": [],
   "source": [
    "import netCDF4\n",
    "import xarray as xr"
   ]
  },
  {
   "cell_type": "code",
   "execution_count": 5,
   "id": "9e40fb96",
   "metadata": {},
   "outputs": [],
   "source": [
    "file = \"topo_land.nc\"\n",
    "data_path = f\"./data/{file}\""
   ]
  },
  {
   "cell_type": "code",
   "execution_count": 6,
   "id": "a60ecd34",
   "metadata": {},
   "outputs": [],
   "source": [
    "dataset = xr.open_dataset(data_path)"
   ]
  },
  {
   "cell_type": "code",
   "execution_count": 7,
   "id": "c7f05366",
   "metadata": {},
   "outputs": [
    {
     "name": "stdout",
     "output_type": "stream",
     "text": [
      "<xarray.Dataset>\n",
      "Dimensions:  (lon: 201, lat: 201)\n",
      "Coordinates:\n",
      "  * lon      (lon) float64 -20.0 -19.75 -19.5 -19.25 ... 29.25 29.5 29.75 30.0\n",
      "  * lat      (lat) float64 30.0 30.25 30.5 30.75 31.0 ... 79.25 79.5 79.75 80.0\n",
      "Data variables:\n",
      "    topo     (lat, lon) float32 ...\n",
      "Attributes:\n",
      "    CDI:          Climate Data Interface version 1.9.9rc1 (https://mpimet.mpg...\n",
      "    Conventions:  CF-1.6\n",
      "    history:      Wed Mar 02 14:52:56 2022: cdo -f nc -sellonlatbox,-20,30,30...\n",
      "    CDO:          Climate Data Operators version 1.9.9rc1 (https://mpimet.mpg...\n"
     ]
    }
   ],
   "source": [
    "print(dataset)"
   ]
  },
  {
   "cell_type": "code",
   "execution_count": null,
   "id": "7fd66d63",
   "metadata": {},
   "outputs": [],
   "source": []
  }
 ],
 "metadata": {
  "kernelspec": {
   "display_name": "Python 3 (ipykernel)",
   "language": "python",
   "name": "python3"
  },
  "language_info": {
   "codemirror_mode": {
    "name": "ipython",
    "version": 3
   },
   "file_extension": ".py",
   "mimetype": "text/x-python",
   "name": "python",
   "nbconvert_exporter": "python",
   "pygments_lexer": "ipython3",
   "version": "3.9.7"
  }
 },
 "nbformat": 4,
 "nbformat_minor": 5
}
