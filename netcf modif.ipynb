{
 "cells": [
  {
   "cell_type": "code",
   "execution_count": 7,
   "id": "0ca48003",
   "metadata": {},
   "outputs": [],
   "source": [
    "import netCDF4\n",
    "import xarray as xr"
   ]
  },
  {
   "cell_type": "code",
   "execution_count": 32,
   "id": "9e40fb96",
   "metadata": {},
   "outputs": [],
   "source": [
    "file = \"_era5_msl_natl_daily_1950-2020_1deg5.nc\"\n",
    "data_path = f\"./data/{file}\""
   ]
  },
  {
   "cell_type": "code",
   "execution_count": 33,
   "id": "a60ecd34",
   "metadata": {},
   "outputs": [],
   "source": [
    "dataset = xr.open_dataset(data_path)"
   ]
  },
  {
   "cell_type": "code",
   "execution_count": 34,
   "id": "c7f05366",
   "metadata": {},
   "outputs": [
    {
     "name": "stdout",
     "output_type": "stream",
     "text": [
      "<xarray.Dataset>\n",
      "Dimensions:  (lat: 40, lon: 74, time: 25933)\n",
      "Coordinates:\n",
      "  * lat      (lat) float64 21.0 22.5 24.0 25.5 27.0 ... 73.5 75.0 76.5 78.0 79.5\n",
      "  * lon      (lon) float64 -79.5 -78.0 -76.5 -75.0 -73.5 ... 25.5 27.0 28.5 30.0\n",
      "  * time     (time) datetime64[ns] 1950-01-01T09:00:00 ... 2020-12-31T09:00:00\n",
      "Data variables:\n",
      "    msl      (time, lat, lon) float32 ...\n",
      "Attributes:\n",
      "    CDI:          Climate Data Interface version 1.9.9rc1 (https://mpimet.mpg...\n",
      "    Conventions:  CF-1.6\n",
      "    history:      Wed Mar 30 15:36:08 2022: ncks -C -x -v time_bnds era5_msl_...\n",
      "    frequency:    day\n",
      "    CDO:          Climate Data Operators version 1.9.9rc1 (https://mpimet.mpg...\n",
      "    NCO:          netCDF Operators version 4.9.1 (Homepage = http://nco.sf.ne...\n"
     ]
    }
   ],
   "source": [
    "print(dataset)"
   ]
  },
  {
   "cell_type": "code",
   "execution_count": null,
   "id": "ae69f5e6",
   "metadata": {},
   "outputs": [],
   "source": []
  }
 ],
 "metadata": {
  "kernelspec": {
   "display_name": "Python 3 (ipykernel)",
   "language": "python",
   "name": "python3"
  },
  "language_info": {
   "codemirror_mode": {
    "name": "ipython",
    "version": 3
   },
   "file_extension": ".py",
   "mimetype": "text/x-python",
   "name": "python",
   "nbconvert_exporter": "python",
   "pygments_lexer": "ipython3",
   "version": "3.9.7"
  }
 },
 "nbformat": 4,
 "nbformat_minor": 5
}
