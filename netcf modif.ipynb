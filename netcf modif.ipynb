{
 "cells": [
  {
   "cell_type": "code",
   "execution_count": 6,
   "id": "0ca48003",
   "metadata": {},
   "outputs": [],
   "source": [
    "import netCDF4\n",
    "import xarray as xr"
   ]
  },
  {
   "cell_type": "code",
   "execution_count": 18,
   "id": "9e40fb96",
   "metadata": {},
   "outputs": [],
   "source": [
    "file = \"era5_z500_natl_daily_1950-2020_NEW.nc\"\n",
    "data_path = f\"./data/{file}\""
   ]
  },
  {
   "cell_type": "code",
   "execution_count": 19,
   "id": "a60ecd34",
   "metadata": {},
   "outputs": [],
   "source": [
    "dataset = xr.open_dataset(data_path)"
   ]
  },
  {
   "cell_type": "code",
   "execution_count": 20,
   "id": "c7f05366",
   "metadata": {},
   "outputs": [
    {
     "name": "stdout",
     "output_type": "stream",
     "text": [
      "<xarray.Dataset>\n",
      "Dimensions:  (time: 25933, lon: 74, lat: 40)\n",
      "Coordinates:\n",
      "  * time     (time) datetime64[ns] 1950-01-01T18:00:00 ... 2020-12-31T18:00:00\n",
      "  * lon      (lon) float64 -79.5 -78.0 -76.5 -75.0 -73.5 ... 25.5 27.0 28.5 30.0\n",
      "  * lat      (lat) float64 21.0 22.5 24.0 25.5 27.0 ... 73.5 75.0 76.5 78.0 79.5\n",
      "Data variables:\n",
      "    z        (time, lat, lon) float32 ...\n",
      "Attributes:\n",
      "    CDI:          Climate Data Interface version 1.9.9rc1 (https://mpimet.mpg...\n",
      "    Conventions:  CF-1.6\n",
      "    history:      Wed Feb 16 15:16:48 2022: cdo -sellonlatbox,-80,30,20,80 er...\n",
      "    NCO:          netCDF Operators version 4.9.6 (Homepage = http://nco.sf.ne...\n",
      "    CDO:          Climate Data Operators version 1.9.9rc1 (https://mpimet.mpg...\n"
     ]
    }
   ],
   "source": [
    "print(dataset)"
   ]
  }
 ],
 "metadata": {
  "kernelspec": {
   "display_name": "Python 3 (ipykernel)",
   "language": "python",
   "name": "python3"
  },
  "language_info": {
   "codemirror_mode": {
    "name": "ipython",
    "version": 3
   },
   "file_extension": ".py",
   "mimetype": "text/x-python",
   "name": "python",
   "nbconvert_exporter": "python",
   "pygments_lexer": "ipython3",
   "version": "3.9.7"
  }
 },
 "nbformat": 4,
 "nbformat_minor": 5
}
