{
 "cells": [
  {
   "cell_type": "markdown",
   "id": "901b9eb5",
   "metadata": {},
   "source": [
    "# Régimes de temps toutes saison"
   ]
  },
  {
   "cell_type": "code",
   "execution_count": 1,
   "id": "cfb460b0",
   "metadata": {},
   "outputs": [],
   "source": [
    "import json"
   ]
  },
  {
   "cell_type": "markdown",
   "id": "f5310bf7",
   "metadata": {},
   "source": [
    "<div style=\"background:lightBlue\">\n",
    "    <br>\n",
    "    <center>\n",
    "    <h3>ouverture sous forme dictionnaire</h3>\n",
    "    </center>\n",
    "    <br>\n",
    "    <br>\n",
    "</div>"
   ]
  },
  {
   "cell_type": "code",
   "execution_count": 2,
   "id": "5e843331",
   "metadata": {},
   "outputs": [],
   "source": [
    "\"\"\"\n",
    "le dictionnaire dictionnaire_frequences_vent contient les données pour 8 interpolations différentes des fréquences :\n",
    "- kmeans_decl_50 : projection sur les régimes ERA, de 1950 à 2014, avec declustering de 3 jours\n",
    "- kmeans_decl_80 : idem mais de 1980 à 2014 seulement\n",
    "- kmeans_50 : projection sur les régimes ERA, de 1950 à 2014, avec declustering\n",
    "- kmeans_80 : idem mais de 1980 à 2014 seulement\n",
    "- indiv_decl_50 : projection sur les régimes de chaque membre du modèle, de 1950 à 2014, avec declustering de 3 jours\n",
    "- indiv_decl_80 : idem mais de 1980 à 2014 seulement\n",
    "- indiv_50 : projection sur les régimes de chaque membre du modèle, de 1950 à 2014, avec declustering\n",
    "- indiv_80 : idem mais de 1980 à 2014 seulement\n",
    "\n",
    "Les données avec declustering donnent les fréquences pour 8 régimes (7 plus le régime non-attribué), \n",
    "donc il faut diviser par la somme des 7 premières fréquences si le régime 8 n'est pas utilisé dans la moyenne.\n",
    "\n",
    "Les moyennes estimées des fréquences sur 2020-2025 , 2025-2030...2040-2045 sont données.\n",
    "\n",
    "Après le choix de la clef pour le régime, on a le choix du membre (membre0,...membre25, era5) ; \n",
    "le choix de la saison (hiver, printemps, ete, automne) ; \n",
    "le choix de l'année de début de la période.\n",
    "\n",
    "Des exemples d'accès sont donnés plus bas.\n",
    "\"\"\"\n",
    "\n",
    "dir_data='./data/'\n",
    "with open(dir_data+\"frequences.json\") as fichier :\n",
    "    dictionnaire_frequences_vent=json.load(fichier)"
   ]
  },
  {
   "cell_type": "code",
   "execution_count": 3,
   "id": "5323e0b1",
   "metadata": {},
   "outputs": [
    {
     "data": {
      "text/plain": [
       "['minimum atlantique (AT)',\n",
       " 'blocage scandinave (ScBl)',\n",
       " 'anticyclone groenlandais (GL)',\n",
       " 'minimum scandinave (ScTr)',\n",
       " 'dorsale atlantique (AR)',\n",
       " 'blocage européen (EuBl)',\n",
       " 'zonal (ZO)']"
      ]
     },
     "execution_count": 3,
     "metadata": {},
     "output_type": "execute_result"
    }
   ],
   "source": [
    "#le nom des régimes, les fréquences sont stockées dans cet ordre\n",
    "dictionnaire_frequences_vent[\"nomRegimes\"]"
   ]
  },
  {
   "cell_type": "markdown",
   "id": "a25b0330",
   "metadata": {},
   "source": [
    "<div style=\"background:lightYellow\">\n",
    "    <br>\n",
    "    exemples d'accès aux données ; le mieux est d'utiliser [\"indiv_decl_50\"] si du declustering a été utilisé pour le calcul de l'indice de vent, les autres sont fournies en cas de besoin.\n",
    "    <br>\n",
    "    <br>\n",
    "</div>"
   ]
  },
  {
   "cell_type": "code",
   "execution_count": 8,
   "id": "17145e20",
   "metadata": {
    "scrolled": false
   },
   "outputs": [
    {
     "data": {
      "text/plain": [
       "{'2020': [0.10228070728070739,\n",
       "  0.0886159936159936,\n",
       "  0.13234601734601734,\n",
       "  0.08645803145803141,\n",
       "  0.1021888321888322,\n",
       "  0.09834236334236336,\n",
       "  0.1936622986622987,\n",
       "  0.1961057561057561],\n",
       " '2025': [0.1039494870744871,\n",
       "  0.08899825962325959,\n",
       "  0.13342495904995902,\n",
       "  0.08289360601860607,\n",
       "  0.09979207354207359,\n",
       "  0.09582400144900133,\n",
       "  0.19795844358344367,\n",
       "  0.1971591696591696],\n",
       " '2030': [0.10561826686826696,\n",
       "  0.08938052563052559,\n",
       "  0.13450390075390076,\n",
       "  0.0793291805791807,\n",
       "  0.09739531489531485,\n",
       "  0.09330563955563943,\n",
       "  0.20225458850458858,\n",
       "  0.19821258321258317],\n",
       " '2035': [0.10728704666204669,\n",
       "  0.08976279163779162,\n",
       "  0.13558284245784244,\n",
       "  0.07576475513975509,\n",
       "  0.09499855624855626,\n",
       "  0.09078727766227757,\n",
       "  0.20655073342573357,\n",
       "  0.1992659967659967],\n",
       " '2040': [0.10895582645582653,\n",
       "  0.0901450576450576,\n",
       "  0.13666178416178412,\n",
       "  0.07220032970032973,\n",
       "  0.09260179760179764,\n",
       "  0.08826891576891567,\n",
       "  0.21084687834687849,\n",
       "  0.20031941031941028]}"
      ]
     },
     "execution_count": 8,
     "metadata": {},
     "output_type": "execute_result"
    }
   ],
   "source": [
    "#données pour le trimestre hiver, du membre 1, projection kmeans_decl_50\n",
    "dictionnaire_frequences_vent[\"kmeans_decl_50\"][\"membre1\"][\"hiver\"]"
   ]
  },
  {
   "cell_type": "code",
   "execution_count": 10,
   "id": "9e73312a",
   "metadata": {},
   "outputs": [
    {
     "data": {
      "text/plain": [
       "{'2020': [0.10142818853620213,\n",
       "  0.20622582991921035,\n",
       "  0.135263110872867,\n",
       "  0.1301195900499036,\n",
       "  0.08579341680386975,\n",
       "  0.21005475360876055,\n",
       "  0.1311151102091867],\n",
       " '2025': [0.0950792987905049,\n",
       "  0.22242306757338035,\n",
       "  0.13337536244918138,\n",
       "  0.12800922978380225,\n",
       "  0.0835361327217741,\n",
       "  0.21126130979465388,\n",
       "  0.1263155988867032],\n",
       " '2030': [0.08873040904480774,\n",
       "  0.23862030522755046,\n",
       "  0.1314876140254958,\n",
       "  0.12589886951770096,\n",
       "  0.08127884863967835,\n",
       "  0.21246786598054723,\n",
       "  0.12151608756421949],\n",
       " '2035': [0.08238151929911101,\n",
       "  0.2548175428817202,\n",
       "  0.1295998656018102,\n",
       "  0.12378850925159965,\n",
       "  0.07902156455758264,\n",
       "  0.21367442216644036,\n",
       "  0.1167165762417359],\n",
       " '2040': [0.0760326295534139,\n",
       "  0.2710147805358894,\n",
       "  0.12771211717812472,\n",
       "  0.12167814898549846,\n",
       "  0.07676428047548708,\n",
       "  0.2148809783523339,\n",
       "  0.11191706491925256]}"
      ]
     },
     "execution_count": 10,
     "metadata": {},
     "output_type": "execute_result"
    }
   ],
   "source": [
    "#données pour le trimestre été, des observations ERA5, projection indiv_80\n",
    "dictionnaire_frequences_vent[\"indiv_80\"][\"era5\"][\"ete\"]"
   ]
  },
  {
   "cell_type": "code",
   "execution_count": null,
   "id": "53343eff",
   "metadata": {},
   "outputs": [],
   "source": []
  }
 ],
 "metadata": {
  "kernelspec": {
   "display_name": "Python 3 (ipykernel)",
   "language": "python",
   "name": "python3"
  },
  "language_info": {
   "codemirror_mode": {
    "name": "ipython",
    "version": 3
   },
   "file_extension": ".py",
   "mimetype": "text/x-python",
   "name": "python",
   "nbconvert_exporter": "python",
   "pygments_lexer": "ipython3",
   "version": "3.9.7"
  }
 },
 "nbformat": 4,
 "nbformat_minor": 5
}
